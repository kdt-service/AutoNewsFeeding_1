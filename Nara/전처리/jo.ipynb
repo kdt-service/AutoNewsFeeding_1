{
 "cells": [
  {
   "cell_type": "code",
   "execution_count": 1,
   "metadata": {},
   "outputs": [],
   "source": [
    "import pandas as pd\n",
    "from datetime import datetime,  timedelta"
   ]
  },
  {
   "cell_type": "code",
   "execution_count": 27,
   "metadata": {},
   "outputs": [],
   "source": [
    "df = pd.read_csv('./final_data.csv', index_col=False)\n",
    "df['writed_at'] = pd.to_datetime(df['writed_at'])\n",
    "nt = pd.read_csv('./nation.csv', index_col=False)\n",
    "\n",
    "# 1, 주차별로 분류\\n,\n",
    "# 2, 국가별로 분류\\n,\n",
    "# 3, 국가별 데이터베이스에 담기\n"
   ]
  },
  {
   "cell_type": "markdown",
   "metadata": {},
   "source": [
    "### 주차별 뉴스데이터 분류"
   ]
  },
  {
   "cell_type": "code",
   "execution_count": 3,
   "metadata": {},
   "outputs": [],
   "source": [
    "# 2.1 ~ 2.7 \n",
    "# 2.8 ~ 2.14\n",
    "# 2.15 ~ 2.21\n",
    "# 2.22 ~ 2.28\n",
    "# 3.1 ~ 3.7\n",
    "# 3.8 ~ 3.14\n",
    "\n",
    "start_date = datetime(2023, 2, 1, 0, 0, 0)\n",
    "end_date = datetime(2023, 2, 7, 23, 59, 59)\n",
    "\n",
    "results = {}\n",
    "for n in range(6):\n",
    "    start_date1 = start_date + timedelta(7*n)\n",
    "    end_date1 = end_date + timedelta(7*n)\n",
    "    date_option = (df['writed_at'] >= start_date1) & (df['writed_at'] <= end_date1)\n",
    "    date_df = df.loc[date_option]\n",
    "    results['{}주차'.format(n+1)] = date_df.values.tolist()\n"
   ]
  },
  {
   "attachments": {},
   "cell_type": "markdown",
   "metadata": {},
   "source": [
    "### 데이터 토큰화 및 국가 카운트"
   ]
  },
  {
   "cell_type": "code",
   "execution_count": 28,
   "metadata": {},
   "outputs": [],
   "source": [
    "country_list = nt['list'].to_list()"
   ]
  },
  {
   "cell_type": "code",
   "execution_count": 97,
   "metadata": {},
   "outputs": [],
   "source": [
    "from konlpy.tag import Mecab\n",
    "    \n",
    "def get_words(txt):\n",
    "\n",
    "    mecab = Mecab()\n",
    "\n",
    "    return [t[0] for t in mecab.pos(txt) if (t[1][0] == 'N') & (len(t[0])>1)]\n",
    "\n",
    "def get_country(word_list) :\n",
    "\n",
    "    count_dict = {}\n",
    "    for word in word_list:\n",
    "        if word in country_list:\n",
    "            if word == '대한민국':\n",
    "                word = '한국'\n",
    "            if word == '우크라':\n",
    "                word = '우크라이나'\n",
    "            count_dict.setdefault(word , 0)\n",
    "            count_dict[word] += 1\n",
    "\n",
    "    return count_dict\n",
    "\n",
    "\n",
    "def count_country(txt1, txt2):\n",
    "\n",
    "    words = get_words(txt1) + get_words(txt2)\n",
    "    count = get_country(words)\n",
    "    if not count:\n",
    "        return []\n",
    "    max(count.values())\n",
    "    max_list = max(count.values()) \n",
    "    max_keys = [key for key, value in count.items() if value == max_list]\n",
    "\n",
    "\n",
    "    return max_keys\n",
    "\n",
    "def country_count(country_list):\n",
    "\n",
    "    country_dict = {}\n",
    "\n",
    "    for country in country_list:\n",
    "        country_dict.setdefault(country, 0)\n",
    "        country_dict[country] += 1\n",
    "        sorted_dict = sorted(country_dict.items(), key=lambda x: x[1], reverse=True)\n",
    "        \n",
    "    return sorted_dict\n",
    "\n",
    "def top_country(df_list):\n",
    "\n",
    "    count_list = []\n",
    "\n",
    "    for n in range(len(df_list)):\n",
    "            c = count_country(df_list[n][0], df_list[n][1])\n",
    "            count_list.extend(c)\n",
    "\n",
    "    results = country_count(count_list)\n",
    "    top3 = [results[0], results[1], results[2]]\n",
    "\n",
    "    return top3\n",
    "\n",
    "def news_dict__(df_list):\n",
    "    \n",
    "    news_dict = {}\n",
    "    for m in range(len(df_list)):\n",
    "        for country in get_country(get_words(df_list[m][1])) :\n",
    "            news_dict.setdefault(country , [])\n",
    "            news_dict[country].append(df_list[m][1])\n",
    "        \n",
    "    return news_dict\n",
    "\n",
    "\n",
    "def top_country_news(df_list):\n",
    "    \n",
    "    t_news_dict = {}\n",
    "    top3 = top_country(df_list)\n",
    "    news_dict_ = news_dict__(df_list)\n",
    "    t_country = [top3[0][0], top3[0][0], top3[0][0]]\n",
    "    t_news_dict[t_country[0]] = news_dict_[t_country[0]]\n",
    "    t_news_dict[t_country[1]] = news_dict_[t_country[1]]\n",
    "    t_news_dict[t_country[2]] = news_dict_[t_country[2]]\n",
    "\n",
    "    \n",
    "    return t_news_dict\n",
    "\n",
    "\n",
    "def keyword():\n",
    "    return\n",
    "\n",
    "def rep_news():\n",
    "    return"
   ]
  },
  {
   "cell_type": "code",
   "execution_count": 7,
   "metadata": {},
   "outputs": [],
   "source": [
    "finally_results = []\n",
    "finally_results_d = {}\n",
    "\n",
    "for n in range(len(results)):\n",
    "    week_counts = []\n",
    "    for m in range(len(results['{}주차'.format(n+1)])):\n",
    "        c = count_country(results['{}주차'.format(n+1)][m][0], results['{}주차'.format(n+1)][m][1])\n",
    "        week_counts.extend(c)\n",
    "    finally_results.append(week_counts)\n",
    "\n",
    "for n in range(len(finally_results)):\n",
    "    finally_results_d['{}주차'.format(n+1)] = country_count(finally_results[n])\n"
   ]
  },
  {
   "cell_type": "code",
   "execution_count": 8,
   "metadata": {},
   "outputs": [],
   "source": [
    "news_dict = {}\n",
    "for m in range(len(results)):\n",
    "    weeks_dict = {}\n",
    "    for n in range(len(results['{}주차'.format(m+1)])) :\n",
    "        if get_country(get_words(results['{}주차'.format(m+1)][n][1])):\n",
    "            for country in get_country(get_words(results['{}주차'.format(m+1)][n][1])).keys() :\n",
    "                weeks_dict.setdefault(country , [])\n",
    "                weeks_dict[country].append(results['{}주차'.format(m+1)][n][1])\n",
    "    news_dict['{}주차'.format(m+1)] = weeks_dict\n"
   ]
  },
  {
   "cell_type": "code",
   "execution_count": null,
   "metadata": {},
   "outputs": [],
   "source": [
    "# 해야할일\n",
    "# 0. 키워드, 토픽 추출\n",
    "# 1. 코드를 범용화.\n",
    "# 2. html 에 적용.\n",
    "# 3. 크롤링한거에 적용..\n"
   ]
  },
  {
   "cell_type": "code",
   "execution_count": 100,
   "metadata": {},
   "outputs": [],
   "source": [
    "a = top_country(results['1주차'])\n"
   ]
  },
  {
   "cell_type": "code",
   "execution_count": 103,
   "metadata": {},
   "outputs": [
    {
     "data": {
      "text/plain": [
       "'우크라이나'"
      ]
     },
     "execution_count": 103,
     "metadata": {},
     "output_type": "execute_result"
    }
   ],
   "source": [
    "a[2][0]"
   ]
  },
  {
   "cell_type": "code",
   "execution_count": null,
   "metadata": {},
   "outputs": [],
   "source": [
    "news_dict__(results['1주차'])"
   ]
  },
  {
   "cell_type": "code",
   "execution_count": null,
   "metadata": {},
   "outputs": [],
   "source": [
    "# df [title, content, writed_at]"
   ]
  },
  {
   "cell_type": "code",
   "execution_count": 90,
   "metadata": {},
   "outputs": [],
   "source": [
    "tt = top_country_news(results['1주차'])"
   ]
  }
 ],
 "metadata": {
  "kernelspec": {
   "display_name": "study",
   "language": "python",
   "name": "python3"
  },
  "language_info": {
   "codemirror_mode": {
    "name": "ipython",
    "version": 3
   },
   "file_extension": ".py",
   "mimetype": "text/x-python",
   "name": "python",
   "nbconvert_exporter": "python",
   "pygments_lexer": "ipython3",
   "version": "3.10.9"
  },
  "orig_nbformat": 4
 },
 "nbformat": 4,
 "nbformat_minor": 2
}

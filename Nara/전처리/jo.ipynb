{
 "cells": [
  {
   "cell_type": "code",
   "execution_count": 2,
   "metadata": {},
   "outputs": [],
   "source": [
    "import pandas as pd\n",
    "from datetime import datetime,  timedelta"
   ]
  },
  {
   "cell_type": "code",
   "execution_count": 3,
   "metadata": {},
   "outputs": [],
   "source": [
    "df = pd.read_csv('./final_data.csv', index_col=False)\n",
    "df['writed_at'] = pd.to_datetime(df['writed_at'])\n",
    "nt = pd.read_csv('./nation.csv', index_col=False)\n",
    "\n",
    "# 1, 주차별로 분류\\n,\n",
    "# 2, 국가별로 분류\\n,\n",
    "# 3, 국가별 데이터베이스에 담기\n"
   ]
  },
  {
   "cell_type": "markdown",
   "metadata": {},
   "source": [
    "### 주차별 뉴스데이터 분류"
   ]
  },
  {
   "cell_type": "code",
   "execution_count": 4,
   "metadata": {},
   "outputs": [],
   "source": [
    "# 2.1 ~ 2.7 \n",
    "# 2.8 ~ 2.14\n",
    "# 2.15 ~ 2.21\n",
    "# 2.22 ~ 2.28\n",
    "# 3.1 ~ 3.7\n",
    "# 3.8 ~ 3.14\n",
    "\n",
    "start_date = datetime(2023, 2, 1, 0, 0, 0)\n",
    "end_date = datetime(2023, 2, 7, 23, 59, 59)\n",
    "\n",
    "results = {}\n",
    "for n in range(6):\n",
    "    start_date1 = start_date + timedelta(7*n)\n",
    "    end_date1 = end_date + timedelta(7*n)\n",
    "    date_option = (df['writed_at'] >= start_date1) & (df['writed_at'] <= end_date1)\n",
    "    date_df = df.loc[date_option]\n",
    "    results['{}주차'.format(n+1)] = date_df.values.tolist()\n"
   ]
  },
  {
   "attachments": {},
   "cell_type": "markdown",
   "metadata": {},
   "source": [
    "### 데이터 토큰화 및 국가 카운트"
   ]
  },
  {
   "cell_type": "code",
   "execution_count": 5,
   "metadata": {},
   "outputs": [],
   "source": [
    "# 1 주차 count : ex) {미국 : 153, 러시아: 135, 우크라이나 : 112}\n",
    "# 조건식으로 미국(), 러시아(), 우크라이나()\n",
    "\n",
    "add_list = ['西', '대한민국', '한국', '한', '韓', '미합중국', '미국', '미', '美', '일본', '일', '日', '중국', '중화인민공화국', '중', '中','프랑스', '프', '독일', '독', '獨', '러시아', '러', '영국', '영', '英']"
   ]
  },
  {
   "cell_type": "code",
   "execution_count": 6,
   "metadata": {},
   "outputs": [],
   "source": [
    "country_list = nt['list'].tolist()"
   ]
  },
  {
   "cell_type": "code",
   "execution_count": null,
   "metadata": {},
   "outputs": [],
   "source": [
    "for n in range(len(add_list)) :\n",
    "    nt = nt.append({'list' : add_list[n]} , ignore_index= True)\n",
    "\n",
    "nt.drop_duplicates(inplace=True)\n",
    "\n",
    "country_list = nt['list'].to_list()"
   ]
  },
  {
   "cell_type": "code",
   "execution_count": 8,
   "metadata": {},
   "outputs": [],
   "source": [
    "from konlpy.tag import Mecab\n",
    "    \n",
    "    \n",
    "def get_words2(txt):\n",
    "\n",
    "    mecab = Mecab()\n",
    "\n",
    "    return [t for t in mecab.pos(txt)]\n",
    "\n",
    "# 토큰화 \n",
    "\n",
    "def get_words(txt):\n",
    "\n",
    "    mecab = Mecab()\n",
    "\n",
    "    return [t[0] for t in mecab.pos(txt) if (t[1][0] == 'N') & (len(t[0])>1)]\n",
    "\n",
    "def get_country(word_list) :\n",
    "\n",
    "\n",
    "    count_dict = {}\n",
    "    for word in word_list:\n",
    "        if word in country_list:\n",
    "            count_dict.setdefault(word , 0)\n",
    "            count_dict[word] += 1\n",
    "\n",
    "    # 토큰별로 빈도수 카운팅\n",
    "    count_dict = {}    \n",
    "    for word in word_list:\n",
    "        if word in country_list:\n",
    "            count_dict.setdefault(word , 0)\n",
    "            count_dict[word] +=1\n",
    "\n",
    "\n",
    "    return count_dict\n",
    "\n",
    "def count_country(txt1, txt2):\n",
    "\n",
    "    \n",
    "    words = get_words(txt1) + get_words(txt2)\n",
    "    count = get_country(words)\n",
    "    if not count:\n",
    "        return []\n",
    "    max(count.values())\n",
    "    max_list = max(count.values()) \n",
    "    max_keys = [key for key, value in count.items() if value == max_list]\n",
    "\n",
    "    return max_keys\n",
    "\n",
    "def country_count(country_list):\n",
    "\n",
    "    country_dict = {}\n",
    "\n",
    "    for country in country_list:\n",
    "        country_dict.setdefault(country, 0)\n",
    "        country_dict[country] += 1\n",
    "        sorted_dict = sorted(country_dict.items(), key=lambda x: x[1], reverse=True)\n",
    "    return sorted_dict\n",
    "\n",
    "\n",
    "#By 강의록"
   ]
  },
  {
   "cell_type": "code",
   "execution_count": 9,
   "metadata": {},
   "outputs": [],
   "source": [
    "finally_results = []\n",
    "for n in range(len(results)):\n",
    "    week_counts = []\n",
    "    for m in range(len(results['{}주차'.format(n+1)])) :\n",
    "        c = count_country(results['{}주차'.format(n+1)][m][0], results['{}주차'.format(n+1)][m][1])\n",
    "        week_counts.extend(c)\n",
    "    finally_results.append(week_counts)\n",
    "\n",
    "\n",
    "finally_results_d = {}\n",
    "for n in range(len(finally_results)):\n",
    "    finally_results_d['{}주차'.format(n+1)] = country_count(finally_results[n])"
   ]
  },
  {
   "cell_type": "code",
   "execution_count": null,
   "metadata": {},
   "outputs": [],
   "source": [
    "finally_results_d['2주차']"
   ]
  },
  {
   "cell_type": "code",
   "execution_count": null,
   "metadata": {},
   "outputs": [],
   "source": []
  }
 ],
 "metadata": {
  "kernelspec": {
   "display_name": "study",
   "language": "python",
   "name": "python3"
  },
  "language_info": {
   "codemirror_mode": {
    "name": "ipython",
    "version": 3
   },
   "file_extension": ".py",
   "mimetype": "text/x-python",
   "name": "python",
   "nbconvert_exporter": "python",
   "pygments_lexer": "ipython3",
   "version": "3.10.9"
  },
  "orig_nbformat": 4
 },
 "nbformat": 4,
 "nbformat_minor": 2
}

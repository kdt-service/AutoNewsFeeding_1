{
 "cells": [
  {
   "cell_type": "code",
<<<<<<< HEAD
   "execution_count": 18,
=======
   "execution_count": 138,
>>>>>>> 9680d8c7ca58e9c673830a92e157b323d0033a5b
   "metadata": {},
   "outputs": [],
   "source": [
    "import pandas as pd\n",
    "from datetime import datetime ,  timedelta"
   ]
  },
  {
   "cell_type": "code",
<<<<<<< HEAD
   "execution_count": 19,
=======
   "execution_count": 139,
>>>>>>> 9680d8c7ca58e9c673830a92e157b323d0033a5b
   "metadata": {},
   "outputs": [],
   "source": [
    "df = pd.read_csv('./final_data.csv', index_col=False)\n",
    "df['writed_at'] = pd.to_datetime(df['writed_at'])"
   ]
  },
  {
   "cell_type": "code",
<<<<<<< HEAD
   "execution_count": 20,
=======
   "execution_count": 140,
>>>>>>> 9680d8c7ca58e9c673830a92e157b323d0033a5b
   "metadata": {},
   "outputs": [],
   "source": [
    "nt = pd.read_csv('./nation.csv', index_col=False)"
   ]
  },
  {
   "cell_type": "code",
<<<<<<< HEAD
   "execution_count": 21,
=======
   "execution_count": 141,
>>>>>>> 9680d8c7ca58e9c673830a92e157b323d0033a5b
   "metadata": {},
   "outputs": [],
   "source": [
    "# 1, 주차별로 분류\n",
    "# 2, 국가별로 분류\n",
    "# 3, 국가별 데이터베이스에 담기"
   ]
  },
  {
   "cell_type": "markdown",
   "metadata": {},
   "source": [
    "### 주차별 뉴스데이터 분류"
   ]
  },
  {
   "cell_type": "code",
<<<<<<< HEAD
   "execution_count": 22,
=======
   "execution_count": 142,
>>>>>>> 9680d8c7ca58e9c673830a92e157b323d0033a5b
   "metadata": {},
   "outputs": [],
   "source": [
    "# 2.1 ~ 2.7 \n",
    "# 2.8 ~ 2.14\n",
    "# 2.15 ~ 2.21\n",
    "# 2.22 ~ 2.28\n",
    "# 3.1 ~ 3.7\n",
    "# 3.8 ~ 3.14\n",
    "\n",
    "start_date = datetime(2023, 2, 1, 0, 0, 0)\n",
    "end_date = datetime(2023, 2, 7, 23, 59, 59)\n",
    "\n",
    "results = {}\n",
    "for n in range(6):\n",
    "    start_date1 = start_date + timedelta(7*n)\n",
    "    end_date1 = end_date + timedelta(7*n)\n",
    "    date_option = (df['writed_at'] >= start_date1) & (df['writed_at'] <= end_date1)\n",
    "    date_df = df.loc[date_option]\n",
    "    results['{}주차'.format(n+1)] = date_df.values.tolist()"
   ]
  },
  {
   "cell_type": "code",
   "execution_count": null,
   "metadata": {},
   "outputs": [],
   "source": [
<<<<<<< HEAD
    "results"
=======
    "results['1주차']"
>>>>>>> 9680d8c7ca58e9c673830a92e157b323d0033a5b
   ]
  },
  {
   "attachments": {},
   "cell_type": "markdown",
   "metadata": {},
   "source": [
    "### 데이터 토큰화 및 국가 카운팅"
   ]
  },
  {
   "cell_type": "code",
<<<<<<< HEAD
   "execution_count": 24,
   "metadata": {},
   "outputs": [],
   "source": [
    "# 1 주차 count : ex) {미국 : 153, 러시아: 135, 우크라이나 : 112}\n",
    "# 조건식으로 미국(), 러시아(), 우크라이나()\n",
    "\n",
    "add_list = ['西', '대한민국', '한국', '한', '韓', '미합중국', '미국', '미', '美', '일본', '일', '日', '중국', '중화인민공화국', '중', '中','프랑스', '프', '독일', '독', '獨', '러시아', '러', '영국', '영', '英']\n"
=======
   "execution_count": 144,
   "metadata": {},
   "outputs": [],
   "source": [
    "country_list = nt['list'].tolist()"
>>>>>>> 9680d8c7ca58e9c673830a92e157b323d0033a5b
   ]
  },
  {
   "cell_type": "code",
<<<<<<< HEAD
   "execution_count": null,
   "metadata": {},
   "outputs": [],
   "source": [
    "for n in range(len(add_list)) :\n",
    "    nt = nt.append({'list' : add_list[n]} , ignore_index= True)\n",
    "\n",
    "nt.drop_duplicates(inplace=True)\n",
    "\n",
    "country_list = nt['list'].to_list()"
   ]
  },
  {
   "cell_type": "code",
   "execution_count": 86,
=======
   "execution_count": 154,
>>>>>>> 9680d8c7ca58e9c673830a92e157b323d0033a5b
   "metadata": {},
   "outputs": [],
   "source": [
    "from konlpy.tag import Mecab\n",
    "\n",
    "\n",
    "def get_words2(txt):\n",
<<<<<<< HEAD
    "\n",
    "    mecab = Mecab()\n",
    "\n",
=======
    "    mecab = Mecab()\n",
>>>>>>> 9680d8c7ca58e9c673830a92e157b323d0033a5b
    "    return [t for t in mecab.pos(txt)]\n",
    "\n",
    "# 토큰화 \n",
    "\n",
    "def get_words(txt):\n",
<<<<<<< HEAD
    "\n",
    "    mecab = Mecab()\n",
    "\n",
=======
    "    mecab = Mecab()\n",
>>>>>>> 9680d8c7ca58e9c673830a92e157b323d0033a5b
    "    return [t[0] for t in mecab.pos(txt) if (t[1][0] == 'N') & (len(t[0])>1)]\n",
    "\n",
    "def get_country(word_list) :\n",
    "\n",
<<<<<<< HEAD
    "    count_dict = {}\n",
    "    for word in word_list:\n",
    "        if word in country_list:\n",
    "            count_dict.setdefault(word , 0)\n",
    "            count_dict[word] += 1\n",
=======
    "    # 토큰별로 빈도수 카운팅\n",
    "    count_dict = {}    \n",
    "    for word in word_list:\n",
    "        if word in country_list:\n",
    "            count_dict.setdefault(word , 0)\n",
    "            count_dict[word] +=1\n",
>>>>>>> 9680d8c7ca58e9c673830a92e157b323d0033a5b
    "\n",
    "    return count_dict\n",
    "\n",
    "def count_country(txt1, txt2):\n",
<<<<<<< HEAD
    "    \n",
    "    words = get_words(txt1) + get_words(txt2)\n",
    "    count = get_country(words)\n",
    "    if not count:\n",
    "        return []\n",
    "    max(count.values())\n",
    "    max_list = max(count.values()) \n",
    "    max_keys = [key for key, value in count.items() if value == max_list]\n",
    "\n",
    "    return max_keys\n",
    "\n",
    "def country_count(country_list):\n",
    "\n",
    "    country_dict = {}\n",
    "\n",
    "    for country in country_list:\n",
    "        country_dict.setdefault(country, 0)\n",
    "        country_dict[country] += 1\n",
    "        sorted_dict = sorted(country_dict.items(), key=lambda x: x[1], reverse=True)\n",
    "    return sorted_dict\n",
    "\n",
=======
    "    words = get_words(txt1) + get_words(txt2)\n",
    "    count = get_country(words)\n",
    "\n",
    "    return count\n",
>>>>>>> 9680d8c7ca58e9c673830a92e157b323d0033a5b
    "\n",
    "#By 강의록"
   ]
  },
  {
   "cell_type": "code",
<<<<<<< HEAD
   "execution_count": 72,
   "metadata": {},
   "outputs": [],
   "source": [
    "\n",
    "finally_results = []\n",
    "for n in range(len(results)):\n",
    "    week_counts = []\n",
    "    for m in range(len(results['{}주차'.format(n+1)])) :\n",
    "        c = count_country(results['{}주차'.format(n+1)][m][0], results['{}주차'.format(n+1)][m][1])\n",
    "        week_counts.extend(c)\n",
    "    finally_results.append(week_counts)\n",
    "\n",
    "\n",
    "finally_results_d = {}\n",
    "for n in range(len(finally_results)):\n",
    "    finally_results_d['{}주차'.format(n+1)] = country_count(finally_results[n])"
   ]
  },
  {
   "cell_type": "code",
   "execution_count": 89,
   "metadata": {},
   "outputs": [],
   "source": []
  },
  {
   "cell_type": "code",
   "execution_count": null,
   "metadata": {},
   "outputs": [],
   "source": [
    "finally_results_d['5주차']"
=======
   "execution_count": 147,
   "metadata": {},
   "outputs": [
    {
     "data": {
      "text/plain": [
       "{'노르웨이': 2, '우크라': 1}"
      ]
     },
     "execution_count": 147,
     "metadata": {},
     "output_type": "execute_result"
    }
   ],
   "source": [
    "count_country(results['1주차'][3][0], results['1주차'][3][1]) "
>>>>>>> 9680d8c7ca58e9c673830a92e157b323d0033a5b
   ]
  },
  {
   "cell_type": "code",
   "execution_count": null,
   "metadata": {},
   "outputs": [],
<<<<<<< HEAD
   "source": []
=======
   "source": [
    "# 1 주차 count : ex) {미국 : 153, 러시아: 135, 우크라이나 : 112}\n",
    "# 조건식으로 미국(), 러시아(), 우크라이나()\n",
    "\n",
    "# ex) (우크라, 우크라이나), (에스파냐, 스페인, 西), (대한민국, 한국, 한, 韓), (미합중국, 미국, 미, 美), (일본, 일, 日), (중국, 중, 中), (영국, 영, 英)\n",
    "# (프랑스, 프), (독일, 독, 獨), (러시아, 러)\n",
    "\n",
    "\n",
    "\n"
   ]
>>>>>>> 9680d8c7ca58e9c673830a92e157b323d0033a5b
  }
 ],
 "metadata": {
  "kernelspec": {
   "display_name": "study",
   "language": "python",
   "name": "python3"
  },
  "language_info": {
   "codemirror_mode": {
    "name": "ipython",
    "version": 3
   },
   "file_extension": ".py",
   "mimetype": "text/x-python",
   "name": "python",
   "nbconvert_exporter": "python",
   "pygments_lexer": "ipython3",
   "version": "3.10.9"
  },
  "orig_nbformat": 4
 },
 "nbformat": 4,
 "nbformat_minor": 2
}

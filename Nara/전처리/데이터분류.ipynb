{
 "cells": [
  {
   "cell_type": "code",
   "execution_count": 138,
   "metadata": {},
   "outputs": [],
   "source": [
    "import pandas as pd\n",
    "from datetime import datetime ,  timedelta"
   ]
  },
  {
   "cell_type": "code",
   "execution_count": 139,
   "metadata": {},
   "outputs": [],
   "source": [
    "df = pd.read_csv('./final_data.csv', index_col=False)\n",
    "df['writed_at'] = pd.to_datetime(df['writed_at'])"
   ]
  },
  {
   "cell_type": "code",
   "execution_count": 140,
   "metadata": {},
   "outputs": [],
   "source": [
    "nt = pd.read_csv('./nation.csv', index_col=False)"
   ]
  },
  {
   "cell_type": "code",
   "execution_count": 141,
   "metadata": {},
   "outputs": [],
   "source": [
    "# 1, 주차별로 분류\n",
    "# 2, 국가별로 분류\n",
    "# 3, 국가별 데이터베이스에 담기"
   ]
  },
  {
   "cell_type": "markdown",
   "metadata": {},
   "source": [
    "### 주차별 뉴스데이터 분류"
   ]
  },
  {
   "cell_type": "code",
   "execution_count": 142,
   "metadata": {},
   "outputs": [],
   "source": [
    "# 2.1 ~ 2.7 \n",
    "# 2.8 ~ 2.14\n",
    "# 2.15 ~ 2.21\n",
    "# 2.22 ~ 2.28\n",
    "# 3.1 ~ 3.7\n",
    "# 3.8 ~ 3.14\n",
    "\n",
    "start_date = datetime(2023, 2, 1, 0, 0, 0)\n",
    "end_date = datetime(2023, 2, 7, 23, 59, 59)\n",
    "\n",
    "results = {}\n",
    "for n in range(6):\n",
    "    start_date1 = start_date + timedelta(7*n)\n",
    "    end_date1 = end_date + timedelta(7*n)\n",
    "    date_option = (df['writed_at'] >= start_date1) & (df['writed_at'] <= end_date1)\n",
    "    date_df = df.loc[date_option]\n",
    "    results['{}주차'.format(n+1)] = date_df.values.tolist()"
   ]
  },
  {
   "cell_type": "code",
   "execution_count": null,
   "metadata": {},
   "outputs": [],
   "source": [
    "results['1주차']"
   ]
  },
  {
   "attachments": {},
   "cell_type": "markdown",
   "metadata": {},
   "source": [
    "### 데이터 토큰화 및 국가 카운팅"
   ]
  },
  {
   "cell_type": "code",
   "execution_count": 144,
   "metadata": {},
   "outputs": [],
   "source": [
    "country_list = nt['list'].tolist()"
   ]
  },
  {
   "cell_type": "code",
   "execution_count": 154,
   "metadata": {},
   "outputs": [],
   "source": [
    "from konlpy.tag import Mecab\n",
    "\n",
    "\n",
    "def get_words2(txt):\n",
    "    mecab = Mecab()\n",
    "    return [t for t in mecab.pos(txt)]\n",
    "\n",
    "# 토큰화 \n",
    "\n",
    "def get_words(txt):\n",
    "    mecab = Mecab()\n",
    "    return [t[0] for t in mecab.pos(txt) if (t[1][0] == 'N') & (len(t[0])>1)]\n",
    "\n",
    "def get_country(word_list) :\n",
    "\n",
    "    # 토큰별로 빈도수 카운팅\n",
    "    count_dict = {}    \n",
    "    for word in word_list:\n",
    "        if word in country_list:\n",
    "            count_dict.setdefault(word , 0)\n",
    "            count_dict[word] +=1\n",
    "\n",
    "    return count_dict\n",
    "\n",
    "def count_country(txt1, txt2):\n",
    "    words = get_words(txt1) + get_words(txt2)\n",
    "    count = get_country(words)\n",
    "\n",
    "    return count\n",
    "\n",
    "#By 강의록"
   ]
  },
  {
   "cell_type": "code",
   "execution_count": 147,
   "metadata": {},
   "outputs": [
    {
     "data": {
      "text/plain": [
       "{'노르웨이': 2, '우크라': 1}"
      ]
     },
     "execution_count": 147,
     "metadata": {},
     "output_type": "execute_result"
    }
   ],
   "source": [
    "count_country(results['1주차'][3][0], results['1주차'][3][1]) "
   ]
  },
  {
   "cell_type": "code",
   "execution_count": null,
   "metadata": {},
   "outputs": [],
   "source": [
    "# 1 주차 count : ex) {미국 : 153, 러시아: 135, 우크라이나 : 112}\n",
    "# 조건식으로 미국(), 러시아(), 우크라이나()\n",
    "\n",
    "# ex) (우크라, 우크라이나), (에스파냐, 스페인, 西), (대한민국, 한국, 한, 韓), (미합중국, 미국, 미, 美), (일본, 일, 日), (중국, 중, 中), (영국, 영, 英)\n",
    "# (프랑스, 프), (독일, 독, 獨), (러시아, 러)\n",
    "\n",
    "\n",
    "\n"
   ]
  }
 ],
 "metadata": {
  "kernelspec": {
   "display_name": "study",
   "language": "python",
   "name": "python3"
  },
  "language_info": {
   "codemirror_mode": {
    "name": "ipython",
    "version": 3
   },
   "file_extension": ".py",
   "mimetype": "text/x-python",
   "name": "python",
   "nbconvert_exporter": "python",
   "pygments_lexer": "ipython3",
   "version": "3.10.9"
  },
  "orig_nbformat": 4
 },
 "nbformat": 4,
 "nbformat_minor": 2
}

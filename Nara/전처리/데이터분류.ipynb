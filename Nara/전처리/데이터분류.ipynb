{
 "cells": [
  {
   "cell_type": "code",
   "execution_count": 50,
   "metadata": {},
   "outputs": [],
   "source": [
    "import pandas as pd\n",
    "from datetime import datetime ,  timedelta"
   ]
  },
  {
   "cell_type": "code",
   "execution_count": 3,
   "metadata": {},
   "outputs": [],
   "source": [
    "df = pd.read_csv('./final_data.csv', index_col=False)\n",
    "df['writed_at'] = pd.to_datetime(df['writed_at'])"
   ]
  },
  {
   "cell_type": "code",
   "execution_count": 81,
   "metadata": {},
   "outputs": [],
   "source": [
    "nt = pd.read_csv('./nation.csv', index_col=False)"
   ]
  },
  {
   "cell_type": "code",
   "execution_count": 5,
   "metadata": {},
   "outputs": [],
   "source": [
    "# 1. 요약내용 or 제목 국가를 추출                  1. 국가 추출 \n",
    "\n",
    "# 2. 추출한 국가별로 뉴스기사 분류                 2. 일자별로 뉴스기사 분류\n",
    "\n",
    "# 3. 추출한 국가별 뉴스를 일자별로 분류             3. 뉴스기사를 국가별로 분류 "
   ]
  },
  {
   "cell_type": "code",
   "execution_count": 76,
   "metadata": {},
   "outputs": [],
   "source": [
    "# 2.1 ~ 2.7 \n",
    "# 2.8 ~ 2.14\n",
    "# 2.15 ~ 2.21\n",
    "# 2.22 ~ 2.28\n",
    "# 3.1 ~ 3.7\n",
    "# 3.8 ~ 3.14\n",
    "\n",
    "start_date = datetime(2023, 2, 1, 0, 0, 0)\n",
    "end_date = datetime(2023, 2, 7, 23, 59, 59)\n",
    "results = {}\n",
    "for n in range(6):\n",
    "    start_date1 = start_date + timedelta(7*n)\n",
    "    end_date1 = end_date + timedelta(7*n)\n",
    "    date_option = (df['writed_at'] >= start_date1) & (df['writed_at'] <= end_date1)\n",
    "    date_df = df.loc[date_option]\n",
    "    results['{}주차'.format(n+1)] = date_df.values.tolist()"
   ]
  },
  {
   "cell_type": "code",
   "execution_count": null,
   "metadata": {},
   "outputs": [],
   "source": []
  }
 ],
 "metadata": {
  "kernelspec": {
   "display_name": "study",
   "language": "python",
   "name": "python3"
  },
  "language_info": {
   "codemirror_mode": {
    "name": "ipython",
    "version": 3
   },
   "file_extension": ".py",
   "mimetype": "text/x-python",
   "name": "python",
   "nbconvert_exporter": "python",
   "pygments_lexer": "ipython3",
   "version": "3.10.9"
  },
  "orig_nbformat": 4
 },
 "nbformat": 4,
 "nbformat_minor": 2
}

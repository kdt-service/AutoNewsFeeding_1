{
 "cells": [
  {
   "cell_type": "code",
   "execution_count": 1,
   "metadata": {},
   "outputs": [],
   "source": [
    "import pandas as pd\n",
    "import re"
   ]
  },
  {
   "cell_type": "code",
   "execution_count": 2,
   "metadata": {},
   "outputs": [],
   "source": [
    "df = pd.read_csv('./news_data.csv')\n",
    "nt = pd.read_csv('./nation.csv')\n"
   ]
  },
  {
   "cell_type": "code",
   "execution_count": 3,
   "metadata": {},
   "outputs": [],
   "source": [
    "# colums (title, content, wirteda_at, sub_category)\n",
    "df_ne = df.drop(['news_id','writer','url','main_category','platform'], axis=1)\n",
    "df_ne = df_ne.dropna()\n"
   ]
  },
  {
   "cell_type": "code",
   "execution_count": 4,
   "metadata": {},
   "outputs": [],
   "source": [
    "df_ne['content'] = df_ne['content'].apply(lambda x : re.sub('((\\(|\\[).*\\=.*(\\]|\\)).*?\\= )','',x))  #[서울=뉴시스]신정원 기자 =\n",
    "df_ne['content'] = df_ne['content'].apply(lambda x : re.sub('\\(사진=[^)]+\\)','',x)) # (사진=블라블라)\n",
    "df_ne['content'] = df_ne['content'].apply(lambda x : re.sub('\\(현지시간\\)','',x)) # (현지시간)\n",
    "df_ne['content'] = df_ne['content'].apply(lambda x : re.sub('\\(한국시간\\)','',x)) # (한국시간)\n",
    "df_ne['content'] = df_ne['content'].apply(lambda x : re.sub('한국시각','',x)) # 한국시각\n",
    "df_ne['content'] = df_ne['content'].apply(lambda x : re.sub('\\[|\\]|\\(|\\)','',x)) #[, ], (, )\n",
    "df_ne['content'] = df_ne['content'].apply(lambda x : re.sub('[가-힣A-z]+\\=[가-힣A-z/0-9]+','',x))\n",
    "\n",
    "#로이터=뉴스1\n",
    "#뉴델리=연합뉴스\n",
    "#마닐라=AP/뉴시스\n"
   ]
  },
  {
   "cell_type": "code",
   "execution_count": 5,
   "metadata": {},
   "outputs": [],
   "source": [
    "news_list = df_ne.values.tolist()"
   ]
  },
  {
   "cell_type": "code",
   "execution_count": 6,
   "metadata": {},
   "outputs": [],
   "source": [
    "from summa.summarizer  import summarize\n",
    "new_sum_list = [news_list[n][1] if summarize(news_list[n][1], words=20) == '' else summarize(news_list[n][1], words=20) for n in range(len(news_list))]\n",
    "df_ne['content'] = new_sum_list\n"
   ]
  },
  {
   "cell_type": "code",
   "execution_count": 7,
   "metadata": {},
   "outputs": [],
   "source": [
    "# df_ne[(df_ne['title'].str.contains('\\[사진\\]'))&(df_ne['content'].str.len() <= 10)]\n",
    "# df_ne[(df_ne['title'].str.contains('\\[사진\\]'))]\n",
    "# df_ne[((df_ne['content'].str.len() <= 20))]\n",
    "\n",
    "df_ne = df_ne.drop(df_ne[df_ne['content'].str.len() <= 4].index)\n",
    "df_ne = df_ne.drop(df_ne[(df_ne['content'].str.contains('파이낸셜뉴스'))].index)\n",
    "df_ne = df_ne.drop(df_ne[(df_ne['content'].str.contains('블룸버그는'))].index)\n",
    "df_ne = df_ne.drop(df_ne[(df_ne['content'].str.contains('전진영 기자 jintonic@'))].index)\n",
    "df_ne = df_ne.drop(df_ne[(df_ne['content'].str.contains('자세한 내용 이어집니다.'))].index)\n",
    "df_ne = df_ne.drop(df_ne[(df_ne['content'].str.contains('데일리안 = 데스크 by.\\n한가마'))].index)\n",
    "df_ne = df_ne.drop(df_ne[(df_ne['title'].str.contains('홍콩, 하락세 홍콩달러 매수 시장개입...\"3개월 만에 6800억원 투입'))].index)\n",
    "df_ne.reset_index(drop=True, inplace=True)\n",
    "df_ne.rename(columns={'content':'summa_content'}, inplace=True)\n",
    "df_ne.drop_duplicates(subset='summa_content', inplace=True)\n",
    "\n"
   ]
  },
  {
   "cell_type": "code",
   "execution_count": 8,
   "metadata": {},
   "outputs": [],
   "source": [
    "df_ne.to_csv('final_data.csv', index=False)"
   ]
  }
 ],
 "metadata": {
  "kernelspec": {
   "display_name": "study",
   "language": "python",
   "name": "python3"
  },
  "language_info": {
   "codemirror_mode": {
    "name": "ipython",
    "version": 3
   },
   "file_extension": ".py",
   "mimetype": "text/x-python",
   "name": "python",
   "nbconvert_exporter": "python",
   "pygments_lexer": "ipython3",
   "version": "3.10.9"
  },
  "orig_nbformat": 4
 },
 "nbformat": 4,
 "nbformat_minor": 2
}
